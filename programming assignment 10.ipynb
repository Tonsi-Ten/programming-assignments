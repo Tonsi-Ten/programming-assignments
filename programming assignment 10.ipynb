{
 "cells": [
  {
   "cell_type": "code",
   "execution_count": null,
   "id": "0e930afb",
   "metadata": {},
   "outputs": [],
   "source": []
  },
  {
   "cell_type": "code",
   "execution_count": null,
   "id": "842b6fd9",
   "metadata": {},
   "outputs": [],
   "source": [
    "1. Write a Python program to find sum of elements in list?"
   ]
  },
  {
   "cell_type": "code",
   "execution_count": 1,
   "id": "1e6aacf2",
   "metadata": {},
   "outputs": [
    {
     "name": "stdout",
     "output_type": "stream",
     "text": [
      "The sum of elements in the list [1, 2, 3, 4, 5] is: 15\n"
     ]
    }
   ],
   "source": [
    "def sum_of_elements(nums):\n",
    "    return sum(nums)\n",
    "\n",
    "# Example usage:\n",
    "numbers = [1, 2, 3, 4, 5]\n",
    "total_sum = sum_of_elements(numbers)\n",
    "\n",
    "print(f\"The sum of elements in the list {numbers} is: {total_sum}\")\n"
   ]
  },
  {
   "cell_type": "code",
   "execution_count": null,
   "id": "c0a300bd",
   "metadata": {},
   "outputs": [],
   "source": [
    "2. Write a Python program to Multiply all numbers in the list?"
   ]
  },
  {
   "cell_type": "code",
   "execution_count": 2,
   "id": "15accef9",
   "metadata": {},
   "outputs": [
    {
     "name": "stdout",
     "output_type": "stream",
     "text": [
      "The product of all numbers in the list [1, 2, 3, 4, 5] is: 120\n"
     ]
    }
   ],
   "source": [
    "def multiply_all(numbers):\n",
    "    result = 1\n",
    "    for num in numbers:\n",
    "        result *= num\n",
    "    return result\n",
    "\n",
    "# Example usage:\n",
    "numbers = [1, 2, 3, 4, 5]\n",
    "product = multiply_all(numbers)\n",
    "\n",
    "print(f\"The product of all numbers in the list {numbers} is: {product}\")\n"
   ]
  },
  {
   "cell_type": "code",
   "execution_count": null,
   "id": "0b018835",
   "metadata": {},
   "outputs": [],
   "source": [
    "3. Write a Python program to find smallest number in a list?"
   ]
  },
  {
   "cell_type": "code",
   "execution_count": 3,
   "id": "02faeba9",
   "metadata": {},
   "outputs": [
    {
     "name": "stdout",
     "output_type": "stream",
     "text": [
      "The smallest number in the list [7, 2, 10, 3, 5] is: 2\n"
     ]
    }
   ],
   "source": [
    "def find_smallest_number(numbers):\n",
    "    return min(numbers)\n",
    "\n",
    "# Example usage:\n",
    "numbers = [7, 2, 10, 3, 5]\n",
    "smallest = find_smallest_number(numbers)\n",
    "\n",
    "print(f\"The smallest number in the list {numbers} is: {smallest}\")\n"
   ]
  },
  {
   "cell_type": "code",
   "execution_count": null,
   "id": "0cf3e343",
   "metadata": {},
   "outputs": [],
   "source": [
    "4. Write a Python program to find largest number in a list?"
   ]
  },
  {
   "cell_type": "code",
   "execution_count": 4,
   "id": "13c87bfb",
   "metadata": {},
   "outputs": [
    {
     "name": "stdout",
     "output_type": "stream",
     "text": [
      "The largest number in the list [7, 2, 10, 3, 5] is: 10\n"
     ]
    }
   ],
   "source": [
    "def find_largest_number(numbers):\n",
    "    return max(numbers)\n",
    "\n",
    "# Example usage:\n",
    "numbers = [7, 2, 10, 3, 5]\n",
    "largest = find_largest_number(numbers)\n",
    "\n",
    "print(f\"The largest number in the list {numbers} is: {largest}\")\n"
   ]
  },
  {
   "cell_type": "code",
   "execution_count": null,
   "id": "b146fc2f",
   "metadata": {},
   "outputs": [],
   "source": [
    "5. Write a Python program to find second largest number in a list?"
   ]
  },
  {
   "cell_type": "code",
   "execution_count": 5,
   "id": "fb371a8d",
   "metadata": {},
   "outputs": [
    {
     "name": "stdout",
     "output_type": "stream",
     "text": [
      "The second largest number in the list [7, 2, 10, 3, 5] is: 7\n"
     ]
    }
   ],
   "source": [
    "def find_second_largest(numbers):\n",
    "    # Sort the list in descending order\n",
    "    sorted_numbers = sorted(numbers, reverse=True)\n",
    "    \n",
    "    # Return the second element (second largest number)\n",
    "    return sorted_numbers[1]\n",
    "\n",
    "# Example usage:\n",
    "numbers = [7, 2, 10, 3, 5]\n",
    "second_largest = find_second_largest(numbers)\n",
    "\n",
    "print(f\"The second largest number in the list {numbers} is: {second_largest}\")\n"
   ]
  },
  {
   "cell_type": "code",
   "execution_count": null,
   "id": "1f21e1d5",
   "metadata": {},
   "outputs": [],
   "source": [
    "6. Write a Python program to find N largest elements from a list?"
   ]
  },
  {
   "cell_type": "code",
   "execution_count": 6,
   "id": "fa980e0f",
   "metadata": {},
   "outputs": [
    {
     "name": "stdout",
     "output_type": "stream",
     "text": [
      "The 3 largest elements in the list [7, 2, 10, 3, 5, 8, 9] are: [10, 9, 8]\n"
     ]
    }
   ],
   "source": [
    "import heapq\n",
    "\n",
    "def find_n_largest(numbers, N):\n",
    "    # Use heapq to get the N largest elements\n",
    "    largest_elements = heapq.nlargest(N, numbers)\n",
    "    return largest_elements\n",
    "\n",
    "# Example usage:\n",
    "numbers = [7, 2, 10, 3, 5, 8, 9]\n",
    "N = 3\n",
    "largest_elements = find_n_largest(numbers, N)\n",
    "\n",
    "print(f\"The {N} largest elements in the list {numbers} are: {largest_elements}\")\n"
   ]
  },
  {
   "cell_type": "code",
   "execution_count": null,
   "id": "379bd227",
   "metadata": {},
   "outputs": [],
   "source": [
    "7. Write a Python program to print even numbers in a list?"
   ]
  },
  {
   "cell_type": "code",
   "execution_count": 7,
   "id": "f0c42ff4",
   "metadata": {},
   "outputs": [
    {
     "name": "stdout",
     "output_type": "stream",
     "text": [
      "Even numbers in the list:\n",
      "2\n",
      "4\n",
      "6\n",
      "8\n",
      "10\n"
     ]
    }
   ],
   "source": [
    "def print_even_numbers(numbers):\n",
    "    even_numbers = [num for num in numbers if num % 2 == 0]\n",
    "    return even_numbers\n",
    "\n",
    "# Example usage:\n",
    "numbers = [1, 2, 3, 4, 5, 6, 7, 8, 9, 10]\n",
    "even_numbers = print_even_numbers(numbers)\n",
    "\n",
    "print(\"Even numbers in the list:\")\n",
    "for num in even_numbers:\n",
    "    print(num)\n"
   ]
  },
  {
   "cell_type": "code",
   "execution_count": null,
   "id": "8285f01a",
   "metadata": {},
   "outputs": [],
   "source": [
    "8. Write a Python program to print odd numbers in a List?\n"
   ]
  },
  {
   "cell_type": "code",
   "execution_count": 8,
   "id": "aabc5385",
   "metadata": {},
   "outputs": [
    {
     "name": "stdout",
     "output_type": "stream",
     "text": [
      "Odd numbers in the list:\n",
      "1\n",
      "3\n",
      "5\n",
      "7\n",
      "9\n"
     ]
    }
   ],
   "source": [
    "def print_odd_numbers(numbers):\n",
    "    odd_numbers = [num for num in numbers if num % 2 != 0]\n",
    "    return odd_numbers\n",
    "\n",
    "# Example usage:\n",
    "numbers = [1, 2, 3, 4, 5, 6, 7, 8, 9, 10]\n",
    "odd_numbers = print_odd_numbers(numbers)\n",
    "\n",
    "print(\"Odd numbers in the list:\")\n",
    "for num in odd_numbers:\n",
    "    print(num)\n"
   ]
  },
  {
   "cell_type": "code",
   "execution_count": null,
   "id": "5cfe17fd",
   "metadata": {},
   "outputs": [],
   "source": [
    "9. Write a Python program to Remove empty List from List?"
   ]
  },
  {
   "cell_type": "code",
   "execution_count": 9,
   "id": "af0210f9",
   "metadata": {},
   "outputs": [
    {
     "name": "stdout",
     "output_type": "stream",
     "text": [
      "List after removing empty lists:\n",
      "[[1, 2], [3, 4], [5]]\n"
     ]
    }
   ],
   "source": [
    "def remove_empty_lists(list_of_lists):\n",
    "    return [lst for lst in list_of_lists if lst]\n",
    "\n",
    "# Example usage:\n",
    "list_of_lists = [[1, 2], [], [3, 4], [], [], [5], []]\n",
    "filtered_lists = remove_empty_lists(list_of_lists)\n",
    "\n",
    "print(\"List after removing empty lists:\")\n",
    "print(filtered_lists)\n"
   ]
  },
  {
   "cell_type": "code",
   "execution_count": null,
   "id": "f5545a3d",
   "metadata": {},
   "outputs": [],
   "source": [
    "10. Write a Python program to Cloning or Copying a list?"
   ]
  },
  {
   "cell_type": "code",
   "execution_count": 10,
   "id": "9277f69e",
   "metadata": {},
   "outputs": [
    {
     "name": "stdout",
     "output_type": "stream",
     "text": [
      "Original List: [1, 2, 3, 4, 5]\n",
      "Cloned List: [1, 2, 3, 4, 5]\n"
     ]
    }
   ],
   "source": [
    "def clone_list(original_list):\n",
    "    return original_list[:]\n",
    "\n",
    "# Example usage:\n",
    "original_list = [1, 2, 3, 4, 5]\n",
    "cloned_list = clone_list(original_list)\n",
    "\n",
    "print(\"Original List:\", original_list)\n",
    "print(\"Cloned List:\", cloned_list)\n"
   ]
  },
  {
   "cell_type": "code",
   "execution_count": null,
   "id": "15d124f9",
   "metadata": {},
   "outputs": [],
   "source": [
    "11. Write a Python program to Count occurrences of an element in a list?"
   ]
  },
  {
   "cell_type": "code",
   "execution_count": 11,
   "id": "5bd1b3e7",
   "metadata": {},
   "outputs": [
    {
     "name": "stdout",
     "output_type": "stream",
     "text": [
      "The element 2 occurs 4 times in the list.\n"
     ]
    }
   ],
   "source": [
    "def count_occurrences(lst, element):\n",
    "    return lst.count(element)\n",
    "\n",
    "# Example usage:\n",
    "numbers = [1, 2, 3, 4, 2, 2, 5, 2]\n",
    "element = 2\n",
    "occurrences = count_occurrences(numbers, element)\n",
    "\n",
    "print(f\"The element {element} occurs {occurrences} times in the list.\")\n"
   ]
  }
 ],
 "metadata": {
  "kernelspec": {
   "display_name": "Python 3 (ipykernel)",
   "language": "python",
   "name": "python3"
  },
  "language_info": {
   "codemirror_mode": {
    "name": "ipython",
    "version": 3
   },
   "file_extension": ".py",
   "mimetype": "text/x-python",
   "name": "python",
   "nbconvert_exporter": "python",
   "pygments_lexer": "ipython3",
   "version": "3.9.13"
  }
 },
 "nbformat": 4,
 "nbformat_minor": 5
}
