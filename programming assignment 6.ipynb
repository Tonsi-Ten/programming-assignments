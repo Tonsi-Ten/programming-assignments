{
 "cells": [
  {
   "cell_type": "code",
   "execution_count": null,
   "id": "84885865",
   "metadata": {},
   "outputs": [],
   "source": [
    "1. Write a Python Program to Display Fibonacci Sequence Using Recursion?"
   ]
  },
  {
   "cell_type": "code",
   "execution_count": 2,
   "id": "0fe64074",
   "metadata": {},
   "outputs": [
    {
     "name": "stdout",
     "output_type": "stream",
     "text": [
      "enter the the number of terms20\n",
      "Fibonacci sequence with 20 terms:\n",
      "[0, 1, 1, 2, 3, 5, 8, 13, 21, 34, 55, 89, 144, 233, 377, 610, 987, 1597, 2584, 4181]\n"
     ]
    }
   ],
   "source": [
    "def fibonacci(n):\n",
    "    if n <= 0:\n",
    "        return \"Input should be a positive integer.\"\n",
    "    elif n == 1:\n",
    "        return [0]\n",
    "    elif n == 2:\n",
    "        return [0, 1]\n",
    "    else:\n",
    "        seq = fibonacci(n-1)\n",
    "        seq.append(seq[-1] + seq[-2])\n",
    "        return seq\n",
    "\n",
    "# Number of terms in the Fibonacci sequence\n",
    "num_terms = int(input(\"enter the the number of terms\"))\n",
    "\n",
    "# Display the Fibonacci sequence\n",
    "print(f\"Fibonacci sequence with {num_terms} terms:\")\n",
    "print(fibonacci(num_terms))\n"
   ]
  },
  {
   "cell_type": "code",
   "execution_count": null,
   "id": "75b9ecf8",
   "metadata": {},
   "outputs": [],
   "source": [
    "2. Write a Python Program to Find Factorial of Number Using Recursion?"
   ]
  },
  {
   "cell_type": "code",
   "execution_count": 3,
   "id": "84dd1cb1",
   "metadata": {},
   "outputs": [
    {
     "name": "stdout",
     "output_type": "stream",
     "text": [
      "Enter a number to find its factorial: 10\n",
      "The factorial of 10 is 3628800.\n"
     ]
    }
   ],
   "source": [
    "def factorial(n):\n",
    "    # Base case: if n is 0, the factorial is 1\n",
    "    if n == 0:\n",
    "        return 1\n",
    "    # Recursive case: n! = n * (n-1)!\n",
    "    else:\n",
    "        return n * factorial(n - 1)\n",
    "\n",
    "# Input: Get a number from the user\n",
    "number = int(input(\"Enter a number to find its factorial: \"))\n",
    "\n",
    "# Check if the number is negative\n",
    "if number < 0:\n",
    "    print(\"Factorial is not defined for negative numbers.\")\n",
    "else:\n",
    "    # Calculate the factorial using the recursive function\n",
    "    result = factorial(number)\n",
    "    # Output: Display the result\n",
    "    print(f\"The factorial of {number} is {result}.\")\n"
   ]
  },
  {
   "cell_type": "code",
   "execution_count": null,
   "id": "5567b848",
   "metadata": {},
   "outputs": [],
   "source": [
    "3. Write a Python Program to calculate your Body Mass Index?"
   ]
  },
  {
   "cell_type": "code",
   "execution_count": 4,
   "id": "624a9900",
   "metadata": {},
   "outputs": [
    {
     "name": "stdout",
     "output_type": "stream",
     "text": [
      "Enter your weight in kilograms: 50\n",
      "Enter your height in meters: 5.3\n",
      "Your BMI is 1.78. You are categorized as: Underweight.\n"
     ]
    }
   ],
   "source": [
    "def calculate_bmi(weight, height):\n",
    "    # BMI formula: weight (kg) / (height (m) ^ 2)\n",
    "    bmi = weight / (height ** 2)\n",
    "    return bmi\n",
    "\n",
    "def bmi_category(bmi):\n",
    "    # Determine the category based on BMI value\n",
    "    if bmi < 18.5:\n",
    "        return \"Underweight\"\n",
    "    elif 18.5 <= bmi < 24.9:\n",
    "        return \"Normal weight\"\n",
    "    elif 25 <= bmi < 29.9:\n",
    "        return \"Overweight\"\n",
    "    else:\n",
    "        return \"Obesity\"\n",
    "\n",
    "# Input: Get weight and height from the user\n",
    "weight = float(input(\"Enter your weight in kilograms: \"))\n",
    "height = float(input(\"Enter your height in meters: \"))\n",
    "\n",
    "# Calculate BMI\n",
    "bmi = calculate_bmi(weight, height)\n",
    "\n",
    "# Determine BMI category\n",
    "category = bmi_category(bmi)\n",
    "\n",
    "# Output: Display the BMI and category\n",
    "print(f\"Your BMI is {bmi:.2f}. You are categorized as: {category}.\")\n"
   ]
  },
  {
   "cell_type": "code",
   "execution_count": null,
   "id": "a925205f",
   "metadata": {},
   "outputs": [],
   "source": [
    "4. Write a Python Program to calculate the natural logarithm of any number?"
   ]
  },
  {
   "cell_type": "code",
   "execution_count": 5,
   "id": "15fc7ad8",
   "metadata": {},
   "outputs": [
    {
     "name": "stdout",
     "output_type": "stream",
     "text": [
      "Enter a number to find its natural logarithm: 20\n",
      "The natural logarithm of 20.0 is 2.9957.\n"
     ]
    }
   ],
   "source": [
    "import math\n",
    "\n",
    "# Input: Get a number from the user\n",
    "number = float(input(\"Enter a number to find its natural logarithm: \"))\n",
    "\n",
    "# Calculate the natural logarithm using math.log\n",
    "# math.log(x) returns the natural logarithm of x\n",
    "if number > 0:\n",
    "    natural_log = math.log(number)\n",
    "    print(f\"The natural logarithm of {number} is {natural_log:.4f}.\")\n",
    "else:\n",
    "    print(\"Natural logarithm is undefined for non-positive numbers.\")\n"
   ]
  },
  {
   "cell_type": "code",
   "execution_count": null,
   "id": "92b974a8",
   "metadata": {},
   "outputs": [],
   "source": [
    "5. Write a Python Program for cube sum of first n natural numbers?"
   ]
  },
  {
   "cell_type": "code",
   "execution_count": 7,
   "id": "5161dbc0",
   "metadata": {},
   "outputs": [
    {
     "name": "stdout",
     "output_type": "stream",
     "text": [
      "Enter a natural number n: 3\n",
      "The cube sum of the first 3 natural numbers is 216.\n"
     ]
    }
   ],
   "source": [
    "def cube_sum(n):\n",
    "    # Calculate the sum of the first n natural numbers\n",
    "    sum_of_n = (n * (n + 1)) // 2\n",
    "    # Return the cube of the sum of the first n natural numbers\n",
    "    return sum_of_n ** 3\n",
    "\n",
    "# Input: Get the value of n from the user\n",
    "n = int(input(\"Enter a natural number n: \"))\n",
    "\n",
    "# Check if n is a positive integer\n",
    "if n <= 0:\n",
    "    print(\"Please enter a positive integer.\")\n",
    "else:\n",
    "    # Calculate the cube sum\n",
    "    result = cube_sum(n)\n",
    "    # Output: Display the result\n",
    "    print(f\"The cube sum of the first {n} natural numbers is {result}.\")\n"
   ]
  },
  {
   "cell_type": "code",
   "execution_count": null,
   "id": "0cedf195",
   "metadata": {},
   "outputs": [],
   "source": []
  },
  {
   "cell_type": "code",
   "execution_count": null,
   "id": "4070d698",
   "metadata": {},
   "outputs": [],
   "source": []
  },
  {
   "cell_type": "code",
   "execution_count": null,
   "id": "c5d0b6ba",
   "metadata": {},
   "outputs": [],
   "source": []
  }
 ],
 "metadata": {
  "kernelspec": {
   "display_name": "Python 3 (ipykernel)",
   "language": "python",
   "name": "python3"
  },
  "language_info": {
   "codemirror_mode": {
    "name": "ipython",
    "version": 3
   },
   "file_extension": ".py",
   "mimetype": "text/x-python",
   "name": "python",
   "nbconvert_exporter": "python",
   "pygments_lexer": "ipython3",
   "version": "3.9.13"
  }
 },
 "nbformat": 4,
 "nbformat_minor": 5
}
