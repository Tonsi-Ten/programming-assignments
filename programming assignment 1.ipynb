{
 "cells": [
  {
   "cell_type": "code",
   "execution_count": null,
   "id": "977c7807",
   "metadata": {},
   "outputs": [],
   "source": [
    "1. Write a Python program to print &quot;Hello Python&quot;?"
   ]
  },
  {
   "cell_type": "code",
   "execution_count": 1,
   "id": "a658a37f",
   "metadata": {},
   "outputs": [
    {
     "name": "stdout",
     "output_type": "stream",
     "text": [
      "hello python\n"
     ]
    }
   ],
   "source": [
    "print(\"hello python\")"
   ]
  },
  {
   "cell_type": "code",
   "execution_count": null,
   "id": "96504416",
   "metadata": {},
   "outputs": [],
   "source": [
    "2. Write a Python program to do arithmetical operations addition and division.?"
   ]
  },
  {
   "cell_type": "code",
   "execution_count": 1,
   "id": "7512ea16",
   "metadata": {},
   "outputs": [
    {
     "name": "stdout",
     "output_type": "stream",
     "text": [
      "Enter the first number: 30\n",
      "Enter the second number: 2\n",
      " 30.0 + 2.0 = 32.0\n",
      " 30.0 / 2.0 = 15.0\n"
     ]
    }
   ],
   "source": [
    "n1 = float(input(\"Enter the first number: \"))\n",
    "n2 = float(input(\"Enter the second number: \"))\n",
    "\n",
    "# Addition\n",
    "add = n1 + n2\n",
    "print(f\" {n1} + {n2} = {add}\")\n",
    "\n",
    "# Division \n",
    "if n2 != 0:\n",
    "    div = n1 / n2\n",
    "    print(f\" {n1} / {n2} = {div}\")\n",
    "else:\n",
    "    print(\"Cannot divide by zero.\")\n"
   ]
  },
  {
   "cell_type": "code",
   "execution_count": null,
   "id": "255cd189",
   "metadata": {},
   "outputs": [],
   "source": [
    "3. Write a Python program to find the area of a triangle?"
   ]
  },
  {
   "cell_type": "code",
   "execution_count": 2,
   "id": "b4f03295",
   "metadata": {},
   "outputs": [
    {
     "name": "stdout",
     "output_type": "stream",
     "text": [
      "Enter the base of the triangle: 20\n",
      "Enter the height of the triangle: 10\n",
      "The area of the triangle is: 100.0\n"
     ]
    }
   ],
   "source": [
    "base = float(input(\"Enter the base of the triangle: \"))\n",
    "height = float(input(\"Enter the height of the triangle: \"))\n",
    "\n",
    "\n",
    "area = 0.5 * base * height\n",
    "\n",
    "\n",
    "print(f\"The area of the triangle is: {area}\")\n"
   ]
  },
  {
   "cell_type": "code",
   "execution_count": null,
   "id": "4256472b",
   "metadata": {},
   "outputs": [],
   "source": [
    "4. Write a Python program to swap two variables?"
   ]
  },
  {
   "cell_type": "code",
   "execution_count": 3,
   "id": "db7746f8",
   "metadata": {},
   "outputs": [
    {
     "name": "stdout",
     "output_type": "stream",
     "text": [
      "Enter the value of the first variable: 20\n",
      "Enter the value of the second variable: 50\n",
      "Before swapping: variable1 = 20, variable2 = 50\n",
      "After swapping: variable1 = 50, variable2 = 20\n"
     ]
    }
   ],
   "source": [
    "variable1 = input(\"Enter the value of the first variable: \")\n",
    "variable2 = input(\"Enter the value of the second variable: \")\n",
    "\n",
    "\n",
    "print(f\"Before swapping: variable1 = {variable1}, variable2 = {variable2}\")\n",
    "\n",
    "variable1, variable2 = variable2, variable1\n",
    "\n",
    "print(f\"After swapping: variable1 = {variable1}, variable2 = {variable2}\")\n"
   ]
  },
  {
   "cell_type": "code",
   "execution_count": null,
   "id": "35a87dc5",
   "metadata": {},
   "outputs": [],
   "source": [
    "5. Write a Python program to generate a random number?"
   ]
  },
  {
   "cell_type": "code",
   "execution_count": 5,
   "id": "25693870",
   "metadata": {},
   "outputs": [],
   "source": [
    "import random"
   ]
  },
  {
   "cell_type": "code",
   "execution_count": 18,
   "id": "02f66a0c",
   "metadata": {},
   "outputs": [],
   "source": [
    "random_number = random.randint(1 , 1000)"
   ]
  },
  {
   "cell_type": "code",
   "execution_count": 7,
   "id": "3d5b3e80",
   "metadata": {},
   "outputs": [
    {
     "name": "stdout",
     "output_type": "stream",
     "text": [
      "A Random Number: 70\n"
     ]
    }
   ],
   "source": [
    "print(f\"A Random Number: {random_number}\")"
   ]
  },
  {
   "cell_type": "code",
   "execution_count": 13,
   "id": "32661d3e",
   "metadata": {},
   "outputs": [
    {
     "name": "stdout",
     "output_type": "stream",
     "text": [
      "A Random Number: 24\n"
     ]
    }
   ],
   "source": [
    "print(f\"A Random Number: {random_number}\")"
   ]
  },
  {
   "cell_type": "code",
   "execution_count": 15,
   "id": "2d882d38",
   "metadata": {},
   "outputs": [
    {
     "name": "stdout",
     "output_type": "stream",
     "text": [
      "A Random Number: 947\n"
     ]
    }
   ],
   "source": [
    "print(f\"A Random Number: {random_number}\")"
   ]
  },
  {
   "cell_type": "code",
   "execution_count": 17,
   "id": "56cbe0b6",
   "metadata": {},
   "outputs": [
    {
     "name": "stdout",
     "output_type": "stream",
     "text": [
      "A Random Number: 71\n"
     ]
    }
   ],
   "source": [
    "print(f\"A Random Number: {random_number}\")"
   ]
  },
  {
   "cell_type": "code",
   "execution_count": 19,
   "id": "a1217c9c",
   "metadata": {},
   "outputs": [
    {
     "name": "stdout",
     "output_type": "stream",
     "text": [
      "A Random Number: 391\n"
     ]
    }
   ],
   "source": [
    "print(f\"A Random Number: {random_number}\")"
   ]
  }
 ],
 "metadata": {
  "kernelspec": {
   "display_name": "Python 3 (ipykernel)",
   "language": "python",
   "name": "python3"
  },
  "language_info": {
   "codemirror_mode": {
    "name": "ipython",
    "version": 3
   },
   "file_extension": ".py",
   "mimetype": "text/x-python",
   "name": "python",
   "nbconvert_exporter": "python",
   "pygments_lexer": "ipython3",
   "version": "3.11.1"
  }
 },
 "nbformat": 4,
 "nbformat_minor": 5
}
