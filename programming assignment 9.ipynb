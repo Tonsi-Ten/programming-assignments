{
 "cells": [
  {
   "cell_type": "code",
   "execution_count": null,
   "id": "7e6b80b5",
   "metadata": {},
   "outputs": [],
   "source": [
    "1. Write a Python program to check if the given number is a Disarium Number?"
   ]
  },
  {
   "cell_type": "code",
   "execution_count": 1,
   "id": "df1996a0",
   "metadata": {},
   "outputs": [
    {
     "name": "stdout",
     "output_type": "stream",
     "text": [
      "175 is a Disarium number\n",
      "89 is a Disarium number\n"
     ]
    }
   ],
   "source": [
    "def is_disarium(number):\n",
    "    # Convert the number to a string to easily access digits and their positions\n",
    "    str_num = str(number)\n",
    "    # Calculate the sum of digits each raised to the power of their positions\n",
    "    disarium_sum = sum(int(digit) ** (index + 1) for index, digit in enumerate(str_num))\n",
    "    # Check if the sum equals the original number\n",
    "    return disarium_sum == number\n",
    "\n",
    "# Example usage:\n",
    "number = 175\n",
    "if is_disarium(number):\n",
    "    print(f\"{number} is a Disarium number\")\n",
    "else:\n",
    "    print(f\"{number} is not a Disarium number\")\n",
    "\n",
    "number2 = 89\n",
    "if is_disarium(number2):\n",
    "    print(f\"{number2} is a Disarium number\")\n",
    "else:\n",
    "    print(f\"{number2} is not a Disarium number\")\n"
   ]
  },
  {
   "cell_type": "code",
   "execution_count": null,
   "id": "22d3fb3f",
   "metadata": {},
   "outputs": [],
   "source": [
    "2. Write a Python program to print all disarium numbers between 1 to 100?"
   ]
  },
  {
   "cell_type": "code",
   "execution_count": 2,
   "id": "be4cf020",
   "metadata": {},
   "outputs": [
    {
     "name": "stdout",
     "output_type": "stream",
     "text": [
      "Disarium numbers between 1 and 100:\n",
      "[1, 2, 3, 4, 5, 6, 7, 8, 9, 89]\n"
     ]
    }
   ],
   "source": [
    "def is_disarium(number):\n",
    "    # Convert the number to a string to easily access digits and their positions\n",
    "    str_num = str(number)\n",
    "    # Calculate the sum of digits each raised to the power of their positions\n",
    "    disarium_sum = sum(int(digit) ** (index + 1) for index, digit in enumerate(str_num))\n",
    "    # Check if the sum equals the original number\n",
    "    return disarium_sum == number\n",
    "\n",
    "def find_disarium_numbers(limit):\n",
    "    disarium_numbers = []\n",
    "    for num in range(1, limit + 1):\n",
    "        if is_disarium(num):\n",
    "            disarium_numbers.append(num)\n",
    "    return disarium_numbers\n",
    "\n",
    "# Example usage:\n",
    "limit = 100\n",
    "disarium_numbers = find_disarium_numbers(limit)\n",
    "\n",
    "print(f\"Disarium numbers between 1 and {limit}:\")\n",
    "print(disarium_numbers)\n"
   ]
  },
  {
   "cell_type": "code",
   "execution_count": null,
   "id": "bc4c7008",
   "metadata": {},
   "outputs": [],
   "source": [
    "3. Write a Python program to check if the given number is Happy Number?"
   ]
  },
  {
   "cell_type": "code",
   "execution_count": 3,
   "id": "840185b4",
   "metadata": {},
   "outputs": [
    {
     "name": "stdout",
     "output_type": "stream",
     "text": [
      "19 is a Happy Number\n",
      "20 is not a Happy Number\n"
     ]
    }
   ],
   "source": [
    "def is_happy_number(number):\n",
    "    def get_next(n):\n",
    "        return sum(int(char) ** 2 for char in str(n))\n",
    "\n",
    "    seen = set()\n",
    "    while number != 1 and number not in seen:\n",
    "        seen.add(number)\n",
    "        number = get_next(number)\n",
    "\n",
    "    return number == 1\n",
    "\n",
    "# Example usage:\n",
    "number = 19\n",
    "if is_happy_number(number):\n",
    "    print(f\"{number} is a Happy Number\")\n",
    "else:\n",
    "    print(f\"{number} is not a Happy Number\")\n",
    "\n",
    "number2 = 20\n",
    "if is_happy_number(number2):\n",
    "    print(f\"{number2} is a Happy Number\")\n",
    "else:\n",
    "    print(f\"{number2} is not a Happy Number\")\n"
   ]
  },
  {
   "cell_type": "code",
   "execution_count": null,
   "id": "5174cffd",
   "metadata": {},
   "outputs": [],
   "source": [
    "4. Write a Python program to print all happy numbers between 1 and 100?"
   ]
  },
  {
   "cell_type": "code",
   "execution_count": null,
   "id": "f4bd42c4",
   "metadata": {},
   "outputs": [],
   "source": []
  },
  {
   "cell_type": "code",
   "execution_count": null,
   "id": "3f7e42f1",
   "metadata": {},
   "outputs": [],
   "source": [
    "5. Write a Python program to determine whether the given number is a Harshad Number?"
   ]
  },
  {
   "cell_type": "code",
   "execution_count": null,
   "id": "1d15b1b4",
   "metadata": {},
   "outputs": [],
   "source": []
  },
  {
   "cell_type": "code",
   "execution_count": null,
   "id": "75c06f93",
   "metadata": {},
   "outputs": [],
   "source": [
    "6. Write a Python program to print all pronic numbers between 1 and 100?"
   ]
  },
  {
   "cell_type": "code",
   "execution_count": null,
   "id": "7b608770",
   "metadata": {},
   "outputs": [],
   "source": []
  }
 ],
 "metadata": {
  "kernelspec": {
   "display_name": "Python 3 (ipykernel)",
   "language": "python",
   "name": "python3"
  },
  "language_info": {
   "codemirror_mode": {
    "name": "ipython",
    "version": 3
   },
   "file_extension": ".py",
   "mimetype": "text/x-python",
   "name": "python",
   "nbconvert_exporter": "python",
   "pygments_lexer": "ipython3",
   "version": "3.9.13"
  }
 },
 "nbformat": 4,
 "nbformat_minor": 5
}
