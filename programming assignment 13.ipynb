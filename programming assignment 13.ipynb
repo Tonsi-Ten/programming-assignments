{
 "cells": [
  {
   "cell_type": "code",
   "execution_count": null,
   "id": "863b91e3",
   "metadata": {},
   "outputs": [],
   "source": [
    "Question 1:\n",
    "Write a program that calculates and prints the value according to the given formula:\n",
    "Q = Square root of [(2 * C * D)/H]\n",
    "Following are the fixed values of C and H:\n",
    "C is 50. H is 30.\n",
    "D is the variable whose values should be input to your program in a comma-separated\n",
    "sequence.\n",
    "Example\n",
    "Let us assume the following comma separated input sequence is given to the program:\n",
    "100,150,180\n",
    "The output of the program should be:\n",
    "18,22,24"
   ]
  },
  {
   "cell_type": "code",
   "execution_count": 1,
   "id": "5c409083",
   "metadata": {},
   "outputs": [
    {
     "name": "stdout",
     "output_type": "stream",
     "text": [
      "Output of the program: 18,22,24\n"
     ]
    }
   ],
   "source": [
    "import math\n",
    "\n",
    "def calculate_Q(D_values):\n",
    "    C = 50\n",
    "    H = 30\n",
    "    results = []\n",
    "    for D in D_values:\n",
    "        Q = math.sqrt((2 * C * D) / H)\n",
    "        results.append(int(Q))  # Append integer value of Q to results list\n",
    "    \n",
    "    return results\n",
    "\n",
    "# Example input\n",
    "input_sequence = \"100,150,180\"\n",
    "D_values = map(int, input_sequence.split(','))\n",
    "\n",
    "output_values = calculate_Q(D_values)\n",
    "output_string = \",\".join(map(str, output_values))\n",
    "\n",
    "print(\"Output of the program:\", output_string)\n"
   ]
  },
  {
   "cell_type": "code",
   "execution_count": null,
   "id": "4e2bb84c",
   "metadata": {},
   "outputs": [],
   "source": [
    "Question 2:\n",
    "Write a program which takes 2 digits, X,Y as input and generates a 2-dimensional array. The\n",
    "element value in the i-th row and j-th column of the array should be i*j.\n",
    "Note: i=0,1.., X-1; j=0,1,¡Y-1.\n",
    "Example\n",
    "Suppose the following inputs are given to the program:\n",
    "3,5\n",
    "Then, the output of the program should be:\n",
    "[[0, 0, 0, 0, 0], [0, 1, 2, 3, 4], [0, 2, 4, 6, 8]]"
   ]
  },
  {
   "cell_type": "code",
   "execution_count": 1,
   "id": "cd9a65b1",
   "metadata": {},
   "outputs": [
    {
     "name": "stdout",
     "output_type": "stream",
     "text": [
      "[[0, 0, 0, 0, 0], [0, 1, 2, 3, 4], [0, 2, 4, 6, 8]]\n"
     ]
    }
   ],
   "source": [
    "def generate_2d_array(X, Y):\n",
    "    # Initialize an empty list to hold the 2D array\n",
    "    array = []\n",
    "    \n",
    "    # Loop through the rows\n",
    "    for i in range(X):\n",
    "        # Initialize an empty list for the current row\n",
    "        row = []\n",
    "        \n",
    "        # Loop through the columns\n",
    "        for j in range(Y):\n",
    "            # Calculate the value for the current element\n",
    "            value = i * j\n",
    "            \n",
    "            # Append the value to the current row\n",
    "            row.append(value)\n",
    "        \n",
    "        # Append the current row to the 2D array\n",
    "        array.append(row)\n",
    "    \n",
    "    return array\n",
    "\n",
    "# Example usage\n",
    "X = 3\n",
    "Y = 5\n",
    "result = generate_2d_array(X, Y)\n",
    "print(result)\n"
   ]
  },
  {
   "cell_type": "code",
   "execution_count": null,
   "id": "8897465e",
   "metadata": {},
   "outputs": [],
   "source": [
    "Question 3:\n",
    "Write a program that accepts a comma separated sequence of words as input and prints the\n",
    "words in a comma-separated sequence after sorting them alphabetically.\n",
    "Suppose the following input is supplied to the program:\n",
    "without,hello,bag,world\n",
    "Then, the output should be:\n",
    "bag,hello,without,world"
   ]
  },
  {
   "cell_type": "code",
   "execution_count": 2,
   "id": "74514e34",
   "metadata": {},
   "outputs": [
    {
     "name": "stdout",
     "output_type": "stream",
     "text": [
      "bag,hello,without,world\n"
     ]
    }
   ],
   "source": [
    "def sort_words(input_string):\n",
    "    # Split the input string by commas to get the list of words\n",
    "    words = input_string.split(',')\n",
    "    \n",
    "    # Sort the list of words alphabetically\n",
    "    words.sort()\n",
    "    \n",
    "    # Join the sorted list of words back into a comma-separated string\n",
    "    sorted_words = ','.join(words)\n",
    "    \n",
    "    return sorted_words\n",
    "\n",
    "# Example usage\n",
    "input_string = \"without,hello,bag,world\"\n",
    "sorted_string = sort_words(input_string)\n",
    "print(sorted_string)\n"
   ]
  },
  {
   "cell_type": "code",
   "execution_count": null,
   "id": "8491e8bb",
   "metadata": {},
   "outputs": [],
   "source": [
    "Question 4:\n",
    "Write a program that accepts a sequence of whitespace separated words as input and prints\n",
    "the words after removing all duplicate words and sorting them alphanumerically.\n",
    "Suppose the following input is supplied to the program:\n",
    "hello world and practice makes perfect and hello world again\n",
    "Then, the output should be:\n",
    "again and hello makes perfect practice world"
   ]
  },
  {
   "cell_type": "code",
   "execution_count": 3,
   "id": "adc68ddb",
   "metadata": {},
   "outputs": [
    {
     "name": "stdout",
     "output_type": "stream",
     "text": [
      "again and hello makes perfect practice world\n"
     ]
    }
   ],
   "source": [
    "def process_words(input_string):\n",
    "    # Split the input string by whitespace to get the list of words\n",
    "    words = input_string.split()\n",
    "    \n",
    "    # Remove duplicate words by converting the list to a set\n",
    "    unique_words = set(words)\n",
    "    \n",
    "    # Sort the set of unique words alphanumerically\n",
    "    sorted_unique_words = sorted(unique_words)\n",
    "    \n",
    "    # Join the sorted list of unique words back into a space-separated string\n",
    "    result = ' '.join(sorted_unique_words)\n",
    "    \n",
    "    return result\n",
    "\n",
    "# Example usage\n",
    "input_string = \"hello world and practice makes perfect and hello world again\"\n",
    "output_string = process_words(input_string)\n",
    "print(output_string)\n"
   ]
  },
  {
   "cell_type": "code",
   "execution_count": null,
   "id": "242a363c",
   "metadata": {},
   "outputs": [],
   "source": [
    "Question 5:\n",
    "Write a program that accepts a sentence and calculate the number of letters and digits.\n",
    "Suppose the following input is supplied to the program:\n",
    "hello world! 123\n",
    "Then, the output should be:\n",
    "LETTERS 10"
   ]
  },
  {
   "cell_type": "code",
   "execution_count": 4,
   "id": "e7a911da",
   "metadata": {},
   "outputs": [
    {
     "name": "stdout",
     "output_type": "stream",
     "text": [
      "LETTERS 10\n",
      "DIGITS 3\n"
     ]
    }
   ],
   "source": [
    "def count_letters_and_digits(input_string):\n",
    "    letters = 0\n",
    "    digits = 0\n",
    "    \n",
    "    # Loop through each character in the input string\n",
    "    for char in input_string:\n",
    "        if char.isalpha():\n",
    "            letters += 1\n",
    "        elif char.isdigit():\n",
    "            digits += 1\n",
    "            \n",
    "    return letters, digits\n",
    "\n",
    "# Example usage\n",
    "input_string = \"hello world! 123\"\n",
    "letters, digits = count_letters_and_digits(input_string)\n",
    "print(f\"LETTERS {letters}\")\n",
    "print(f\"DIGITS {digits}\")\n"
   ]
  },
  {
   "cell_type": "code",
   "execution_count": null,
   "id": "2c20339c",
   "metadata": {},
   "outputs": [],
   "source": [
    "Question 6:\n",
    "A website requires the users to input username and password to register. Write a program to\n",
    "check the validity of password input by users.\n",
    "Following are the criteria for checking the password:\n",
    "1. At least 1 letter between [a-z]\n",
    "2. At least 1 number between [0-9]\n",
    "1. At least 1 letter between [A-Z]\n",
    "3. At least 1 character from [$#@]\n",
    "4. Minimum length of transaction password: 6\n",
    "5. Maximum length of transaction password: 12\n",
    "Your program should accept a sequence of comma separated passwords and will check them\n",
    "according to the above criteria. Passwords that match the criteria are to be printed, each\n",
    "separated by a comma.\n",
    "Example\n",
    "If the following passwords are given as input to the program:\n",
    "ABd1234@1,a F1#,2w3E*,2We3345\n",
    "Then, the output of the program should be:\n",
    "ABd1234@1"
   ]
  },
  {
   "cell_type": "code",
   "execution_count": 5,
   "id": "37469b6b",
   "metadata": {},
   "outputs": [
    {
     "name": "stdout",
     "output_type": "stream",
     "text": [
      "ABd1234@1\n"
     ]
    }
   ],
   "source": [
    "import re\n",
    "\n",
    "def is_valid_password(password):\n",
    "    # Check if password length is between 6 and 12\n",
    "    if not (6 <= len(password) <= 12):\n",
    "        return False\n",
    "\n",
    "    # Check for at least 1 letter between [a-z]\n",
    "    if not re.search(\"[a-z]\", password):\n",
    "        return False\n",
    "\n",
    "    # Check for at least 1 number between [0-9]\n",
    "    if not re.search(\"[0-9]\", password):\n",
    "        return False\n",
    "\n",
    "    # Check for at least 1 letter between [A-Z]\n",
    "    if not re.search(\"[A-Z]\", password):\n",
    "        return False\n",
    "\n",
    "    # Check for at least 1 character from [$#@]\n",
    "    if not re.search(\"[$#@]\", password):\n",
    "        return False\n",
    "\n",
    "    return True\n",
    "\n",
    "def check_passwords(passwords):\n",
    "    valid_passwords = [pwd for pwd in passwords if is_valid_password(pwd)]\n",
    "    return ','.join(valid_passwords)\n",
    "\n",
    "# Example usage\n",
    "input_passwords = \"ABd1234@1,a F1#,2w3E*,2We3345\"\n",
    "password_list = input_passwords.split(',')\n",
    "output = check_passwords(password_list)\n",
    "print(output)\n"
   ]
  },
  {
   "cell_type": "code",
   "execution_count": null,
   "id": "43fcf1cf",
   "metadata": {},
   "outputs": [],
   "source": []
  },
  {
   "cell_type": "code",
   "execution_count": null,
   "id": "b3c7ad9c",
   "metadata": {},
   "outputs": [],
   "source": []
  }
 ],
 "metadata": {
  "kernelspec": {
   "display_name": "Python 3 (ipykernel)",
   "language": "python",
   "name": "python3"
  },
  "language_info": {
   "codemirror_mode": {
    "name": "ipython",
    "version": 3
   },
   "file_extension": ".py",
   "mimetype": "text/x-python",
   "name": "python",
   "nbconvert_exporter": "python",
   "pygments_lexer": "ipython3",
   "version": "3.9.13"
  }
 },
 "nbformat": 4,
 "nbformat_minor": 5
}
