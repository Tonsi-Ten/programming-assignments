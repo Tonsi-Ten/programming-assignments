{
 "cells": [
  {
   "cell_type": "code",
   "execution_count": null,
   "id": "23f08fd3",
   "metadata": {},
   "outputs": [],
   "source": [
    "1. Write a Python program to Extract Unique values dictionary values?"
   ]
  },
  {
   "cell_type": "code",
   "execution_count": 1,
   "id": "277c4eb1",
   "metadata": {},
   "outputs": [
    {
     "name": "stdout",
     "output_type": "stream",
     "text": [
      "Unique values: {1, 2, 3, 4, 5, 6, 7, 8}\n"
     ]
    }
   ],
   "source": [
    "def extract_unique_values(dictionary):\n",
    "    unique_values = set()\n",
    "    for values in dictionary.values():\n",
    "        if isinstance(values, list) or isinstance(values, set):\n",
    "            unique_values.update(values)\n",
    "        else:\n",
    "            unique_values.add(values)\n",
    "    return unique_values\n",
    "\n",
    "# Example dictionary\n",
    "example_dict = {\n",
    "    'A': [1, 2, 3],\n",
    "    'B': [3, 4, 5],\n",
    "    'C': 6,\n",
    "    'D': [5, 6, 7],\n",
    "    'E': 8\n",
    "}\n",
    "\n",
    "unique_values = extract_unique_values(example_dict)\n",
    "print(\"Unique values:\", unique_values)\n"
   ]
  },
  {
   "cell_type": "code",
   "execution_count": null,
   "id": "3ba45e07",
   "metadata": {},
   "outputs": [],
   "source": [
    "2. Write a Python program to find the sum of all items in a dictionary?"
   ]
  },
  {
   "cell_type": "code",
   "execution_count": 2,
   "id": "8fbb813e",
   "metadata": {},
   "outputs": [
    {
     "name": "stdout",
     "output_type": "stream",
     "text": [
      "Sum of all items: 150\n"
     ]
    }
   ],
   "source": [
    "def sum_of_dict_values(dictionary):\n",
    "    total_sum = 0\n",
    "    for value in dictionary.values():\n",
    "        total_sum += value\n",
    "    return total_sum\n",
    "\n",
    "# Example dictionary\n",
    "example_dict = {\n",
    "    'A': 10,\n",
    "    'B': 20,\n",
    "    'C': 30,\n",
    "    'D': 40,\n",
    "    'E': 50\n",
    "}\n",
    "\n",
    "total_sum = sum_of_dict_values(example_dict)\n",
    "print(\"Sum of all items:\", total_sum)\n"
   ]
  },
  {
   "cell_type": "code",
   "execution_count": null,
   "id": "e47be26c",
   "metadata": {},
   "outputs": [],
   "source": [
    "3. Write a Python program to Merging two Dictionaries?"
   ]
  },
  {
   "cell_type": "code",
   "execution_count": 3,
   "id": "08ea9048",
   "metadata": {},
   "outputs": [
    {
     "name": "stdout",
     "output_type": "stream",
     "text": [
      "Merged dictionary using update method: {'A': 1, 'B': 2, 'C': 3, 'D': 4, 'E': 5, 'F': 6}\n"
     ]
    }
   ],
   "source": [
    "def merge_dicts_update(dict1, dict2):\n",
    "    merged_dict = dict1.copy()  # Make a copy of dict1 to avoid modifying it\n",
    "    merged_dict.update(dict2)   # Update the copy with dict2\n",
    "    return merged_dict\n",
    "\n",
    "# Example dictionaries\n",
    "dict1 = {'A': 1, 'B': 2, 'C': 3}\n",
    "dict2 = {'D': 4, 'E': 5, 'F': 6}\n",
    "\n",
    "merged_dict = merge_dicts_update(dict1, dict2)\n",
    "print(\"Merged dictionary using update method:\", merged_dict)\n"
   ]
  },
  {
   "cell_type": "code",
   "execution_count": null,
   "id": "d71bb6f9",
   "metadata": {},
   "outputs": [],
   "source": [
    "4. Write a Python program to convert key-values list to flat dictionary?"
   ]
  },
  {
   "cell_type": "code",
   "execution_count": 4,
   "id": "410b99c1",
   "metadata": {},
   "outputs": [
    {
     "name": "stdout",
     "output_type": "stream",
     "text": [
      "Flat dictionary: {'A': 1, 'B': 2, 'C': 3, 'D': 4, 'E': 5}\n"
     ]
    }
   ],
   "source": [
    "def list_to_flat_dict(key_value_list):\n",
    "    flat_dict = {}\n",
    "    for key, value in key_value_list:\n",
    "        flat_dict[key] = value\n",
    "    return flat_dict\n",
    "\n",
    "# Example key-values list\n",
    "key_value_list = [('A', 1), ('B', 2), ('C', 3), ('D', 4), ('E', 5)]\n",
    "\n",
    "flat_dict = list_to_flat_dict(key_value_list)\n",
    "print(\"Flat dictionary:\", flat_dict)\n"
   ]
  },
  {
   "cell_type": "code",
   "execution_count": null,
   "id": "c3dd4a4e",
   "metadata": {},
   "outputs": [],
   "source": [
    "5. Write a Python program to insertion at the beginning in OrderedDict?"
   ]
  },
  {
   "cell_type": "code",
   "execution_count": 5,
   "id": "b51af00c",
   "metadata": {},
   "outputs": [
    {
     "name": "stdout",
     "output_type": "stream",
     "text": [
      "Original OrderedDict: OrderedDict([('B', 2), ('C', 3), ('D', 4)])\n",
      "OrderedDict after insertion: OrderedDict([('A', 1), ('B', 2), ('C', 3), ('D', 4)])\n"
     ]
    }
   ],
   "source": [
    "from collections import OrderedDict\n",
    "\n",
    "def insert_at_beginning(ordered_dict, key, value):\n",
    "    # Insert the new key-value pair\n",
    "    ordered_dict[key] = value\n",
    "    # Move the key to the beginning\n",
    "    ordered_dict.move_to_end(key, last=False)\n",
    "\n",
    "# Example OrderedDict\n",
    "ordered_dict = OrderedDict([('B', 2), ('C', 3), ('D', 4)])\n",
    "\n",
    "print(\"Original OrderedDict:\", ordered_dict)\n",
    "\n",
    "# Insert ('A', 1) at the beginning\n",
    "insert_at_beginning(ordered_dict, 'A', 1)\n",
    "\n",
    "print(\"OrderedDict after insertion:\", ordered_dict)\n"
   ]
  },
  {
   "cell_type": "code",
   "execution_count": null,
   "id": "a233d563",
   "metadata": {},
   "outputs": [],
   "source": [
    "6. Write a Python program to check order of character in string using OrderedDict()?"
   ]
  },
  {
   "cell_type": "code",
   "execution_count": 6,
   "id": "7eb3f2d7",
   "metadata": {},
   "outputs": [
    {
     "name": "stdout",
     "output_type": "stream",
     "text": [
      "Pattern 'hlo' appears in order in the string 'hello world'.\n"
     ]
    }
   ],
   "source": [
    "from collections import OrderedDict\n",
    "\n",
    "def check_order_of_chars(input_string, pattern):\n",
    "    # Create an OrderedDict to store the first occurrence of each character\n",
    "    char_positions = OrderedDict()\n",
    "\n",
    "    # Iterate through the input_string to find the positions of characters\n",
    "    for index, char in enumerate(input_string):\n",
    "        if char not in char_positions:\n",
    "            char_positions[char] = index\n",
    "\n",
    "    # Check the order of characters in the pattern using their positions\n",
    "    last_position = -1\n",
    "    for char in pattern:\n",
    "        if char in char_positions:\n",
    "            current_position = char_positions[char]\n",
    "            if current_position < last_position:\n",
    "                return False\n",
    "            last_position = current_position\n",
    "        else:\n",
    "            return False\n",
    "\n",
    "    return True\n",
    "\n",
    "# Example usage\n",
    "input_str = \"hello world\"\n",
    "pattern_to_check = \"hlo\"\n",
    "\n",
    "result = check_order_of_chars(input_str, pattern_to_check)\n",
    "if result:\n",
    "    print(\"Pattern '{}' appears in order in the string '{}'.\".format(pattern_to_check, input_str))\n",
    "else:\n",
    "    print(\"Pattern '{}' does not appear in order in the string '{}'.\".format(pattern_to_check, input_str))\n"
   ]
  },
  {
   "cell_type": "code",
   "execution_count": 8,
   "id": "8e7c0e26",
   "metadata": {},
   "outputs": [
    {
     "name": "stdout",
     "output_type": "stream",
     "text": [
      "Object `Value` not found.\n"
     ]
    }
   ],
   "source": [
    "7. Write a Python program to sort Python Dictionaries by Key or Value?"
   ]
  },
  {
   "cell_type": "code",
   "execution_count": 9,
   "id": "c89600f8",
   "metadata": {},
   "outputs": [
    {
     "name": "stdout",
     "output_type": "stream",
     "text": [
      "Sorted dictionary by key: {'a': 1, 'b': 2, 'c': 3, 'd': 4}\n"
     ]
    }
   ],
   "source": [
    "def sort_dict_by_key(dictionary):\n",
    "    sorted_dict = dict(sorted(dictionary.items()))\n",
    "    return sorted_dict\n",
    "\n",
    "# Example dictionary\n",
    "example_dict = {'b': 2, 'a': 1, 'd': 4, 'c': 3}\n",
    "\n",
    "sorted_by_key = sort_dict_by_key(example_dict)\n",
    "print(\"Sorted dictionary by key:\", sorted_by_key)\n"
   ]
  },
  {
   "cell_type": "code",
   "execution_count": 10,
   "id": "e5c45589",
   "metadata": {},
   "outputs": [
    {
     "name": "stdout",
     "output_type": "stream",
     "text": [
      "Sorted dictionary by value: {'a': 1, 'b': 2, 'c': 3, 'd': 4}\n"
     ]
    }
   ],
   "source": [
    "def sort_dict_by_value(dictionary):\n",
    "    sorted_dict = dict(sorted(dictionary.items(), key=lambda x: x[1]))\n",
    "    return sorted_dict\n",
    "\n",
    "# Example dictionary\n",
    "example_dict = {'b': 2, 'a': 1, 'd': 4, 'c': 3}\n",
    "\n",
    "sorted_by_value = sort_dict_by_value(example_dict)\n",
    "print(\"Sorted dictionary by value:\", sorted_by_value)\n"
   ]
  }
 ],
 "metadata": {
  "kernelspec": {
   "display_name": "Python 3 (ipykernel)",
   "language": "python",
   "name": "python3"
  },
  "language_info": {
   "codemirror_mode": {
    "name": "ipython",
    "version": 3
   },
   "file_extension": ".py",
   "mimetype": "text/x-python",
   "name": "python",
   "nbconvert_exporter": "python",
   "pygments_lexer": "ipython3",
   "version": "3.9.13"
  }
 },
 "nbformat": 4,
 "nbformat_minor": 5
}
