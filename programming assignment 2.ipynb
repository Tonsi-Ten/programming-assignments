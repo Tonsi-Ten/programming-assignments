{
 "cells": [
  {
   "cell_type": "code",
   "execution_count": null,
   "id": "20b753d1",
   "metadata": {},
   "outputs": [],
   "source": []
  },
  {
   "cell_type": "code",
   "execution_count": null,
   "id": "748d26f8",
   "metadata": {},
   "outputs": [],
   "source": [
    "1. Write a Python program to convert kilometers to miles?"
   ]
  },
  {
   "cell_type": "code",
   "execution_count": 2,
   "id": "e042c7f3",
   "metadata": {},
   "outputs": [
    {
     "name": "stdout",
     "output_type": "stream",
     "text": [
      "enter the value in km:20\n",
      "20.0 kilometers is equal to 12.42742 miles.\n"
     ]
    }
   ],
   "source": [
    "def km_to_miles(kilometers):\n",
    "    miles = kilometers * 0.621371\n",
    "    return miles\n",
    "kilometers = float(input(\"enter the value in km:\")) \n",
    "\n",
    "miles = km_to_miles(kilometers)\n",
    "print(f\"{kilometers} kilometers is equal to {miles} miles.\" )"
   ]
  },
  {
   "cell_type": "code",
   "execution_count": null,
   "id": "425f2378",
   "metadata": {},
   "outputs": [],
   "source": [
    "2. Write a Python program to convert Celsius to Fahrenheit?"
   ]
  },
  {
   "cell_type": "code",
   "execution_count": 7,
   "id": "e74f992b",
   "metadata": {},
   "outputs": [
    {
     "name": "stdout",
     "output_type": "stream",
     "text": [
      "Enter the temperature in celsius100\n",
      "100.0 degree celsius is equal to 212.0 degrees farhnheit.\n"
     ]
    }
   ],
   "source": [
    "def temp(celsius):\n",
    "    fahrenheit = (celsius * 9/5 + 32)\n",
    "    return fahrenheit \n",
    "celsius = float(input(\"Enter the temperature in celsius\"))\n",
    "\n",
    "fahrenheit = temp(celsius)\n",
    "print(f\"{celsius} degree celsius is equal to {fahrenheit } degrees farhnheit.\")"
   ]
  },
  {
   "cell_type": "code",
   "execution_count": null,
   "id": "a7614677",
   "metadata": {},
   "outputs": [],
   "source": [
    "3. Write a Python program to display calendar?"
   ]
  },
  {
   "cell_type": "code",
   "execution_count": null,
   "id": "7bb6ea07",
   "metadata": {},
   "outputs": [],
   "source": [
    "import calendar "
   ]
  },
  {
   "cell_type": "code",
   "execution_count": 2,
   "id": "bb667eca",
   "metadata": {},
   "outputs": [
    {
     "name": "stdout",
     "output_type": "stream",
     "text": [
      "Enter year: 2024\n",
      "enter month: 5\n",
      "      May 2024\n",
      "Mo Tu We Th Fr Sa Su\n",
      "       1  2  3  4  5\n",
      " 6  7  8  9 10 11 12\n",
      "13 14 15 16 17 18 19\n",
      "20 21 22 23 24 25 26\n",
      "27 28 29 30 31\n",
      "\n"
     ]
    }
   ],
   "source": [
    "import calendar \n",
    "\n",
    "year = int(input(\"Enter year: \"))\n",
    "month = int(input(\"enter month: \"))\n",
    "\n",
    "cal = calendar.month(year, month)\n",
    "\n",
    "print(cal)"
   ]
  },
  {
   "cell_type": "code",
   "execution_count": null,
   "id": "3a6860a2",
   "metadata": {},
   "outputs": [],
   "source": [
    "4. Write a Python program to solve quadratic equation?"
   ]
  },
  {
   "cell_type": "code",
   "execution_count": 5,
   "id": "573a1e16",
   "metadata": {},
   "outputs": [
    {
     "name": "stdout",
     "output_type": "stream",
     "text": [
      "Enter the coefficient a: 8\n",
      "Enter the coefficient b: 6\n",
      "Enter the coefficient c: 2\n",
      "The solution of the quadratic equation 8.0x² + 6.0x + 2.0 = 0 is:\n",
      "x1 = (-0.375+0.33071891388307384j)\n",
      "x2 = (-0.375-0.33071891388307384j)\n"
     ]
    }
   ],
   "source": [
    "import math\n",
    "\n",
    "def solve_quadratic(a, b, c):\n",
    "    # Calculate the discriminant\n",
    "    delta = b**2 - 4*a*c\n",
    "\n",
    "    # Check if the discriminant is non-negative\n",
    "    if delta >= 0:\n",
    "        # Calculate the two real roots\n",
    "        root1 = (-b + math.sqrt(delta)) / (2*a)\n",
    "        root2 = (-b - math.sqrt(delta)) / (2*a)\n",
    "        return root1, root2\n",
    "    else:\n",
    "        # If discriminant is negative, return complex roots\n",
    "        real_part = -b / (2*a)\n",
    "        imaginary_part = math.sqrt(abs(delta)) / (2*a)\n",
    "        root1 = complex(real_part, imaginary_part)\n",
    "        root2 = complex(real_part, -imaginary_part)\n",
    "        return root1, root2\n",
    "\n",
    "# Get coefficients from the user\n",
    "a = float(input(\"Enter the coefficient a: \"))\n",
    "b = float(input(\"Enter the coefficient b: \"))\n",
    "c = float(input(\"Enter the coefficient c: \"))\n",
    "\n",
    "# Call the function to solve the quadratic equation\n",
    "roots = solve_quadratic(a, b, c)\n",
    "\n",
    "# Display the solution of the quadratic equation\n",
    "print(f\"The solution of the quadratic equation {a}x² + {b}x + {c} = 0 is:\")\n",
    "print(f\"x1 = {roots[0]}\")\n",
    "print(f\"x2 = {roots[1]}\")\n"
   ]
  },
  {
   "cell_type": "code",
   "execution_count": 6,
   "id": "5aab6c4a",
   "metadata": {},
   "outputs": [
    {
     "name": "stdout",
     "output_type": "stream",
     "text": [
      "Object `variable` not found.\n"
     ]
    }
   ],
   "source": [
    ". Write a Python program to swap two variables without temp variable?"
   ]
  },
  {
   "cell_type": "code",
   "execution_count": 7,
   "id": "fdb3b5bf",
   "metadata": {},
   "outputs": [
    {
     "name": "stdout",
     "output_type": "stream",
     "text": [
      "Enter the value of variable 'a': tonsi\n",
      "Enter the value of variable 'b': aditya\n",
      "Before swapping:\n",
      "a = tonsi\n",
      "b = aditya\n",
      "\n",
      "After swapping:\n",
      "a = aditya\n",
      "b = tonsi\n"
     ]
    }
   ],
   "source": [
    "a = input(\"Enter the value of variable 'a': \")\n",
    "b = input(\"Enter the value of variable 'b': \")\n",
    "\n",
    "# Display the original values\n",
    "print(\"Before swapping:\")\n",
    "print(\"a =\", a)\n",
    "print(\"b =\", b)\n",
    "\n",
    "# Swap the variables without using a temporary variable\n",
    "a, b = b, a\n",
    "\n",
    "# Display the swapped values\n",
    "print(\"\\nAfter swapping:\")\n",
    "print(\"a =\", a)\n",
    "print(\"b =\", b)\n"
   ]
  }
 ],
 "metadata": {
  "kernelspec": {
   "display_name": "Python 3 (ipykernel)",
   "language": "python",
   "name": "python3"
  },
  "language_info": {
   "codemirror_mode": {
    "name": "ipython",
    "version": 3
   },
   "file_extension": ".py",
   "mimetype": "text/x-python",
   "name": "python",
   "nbconvert_exporter": "python",
   "pygments_lexer": "ipython3",
   "version": "3.11.1"
  }
 },
 "nbformat": 4,
 "nbformat_minor": 5
}
