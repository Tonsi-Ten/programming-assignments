{
 "cells": [
  {
   "cell_type": "code",
   "execution_count": null,
   "id": "f43d4d7f",
   "metadata": {},
   "outputs": [],
   "source": [
    "1. Write a Python program to find words which are greater than given length k?"
   ]
  },
  {
   "cell_type": "code",
   "execution_count": 2,
   "id": "35687924",
   "metadata": {},
   "outputs": [
    {
     "name": "stdout",
     "output_type": "stream",
     "text": [
      "Words longer than 5 characters: ['banana', 'cherry', 'elderberry']\n"
     ]
    }
   ],
   "source": [
    "def find_long_words(words, k):\n",
    "    \n",
    "    long_words = [word for word in words if len(word) > k]\n",
    "    return long_words\n",
    "\n",
    "# Example usage:\n",
    "words_list = [\"apple\", \"banana\", \"cherry\", \"date\", \"elderberry\", \"fig\", \"grape\"]\n",
    "k = 5\n",
    "result = find_long_words(words_list, k)\n",
    "\n",
    "print(f\"Words longer than {k} characters: {result}\")\n"
   ]
  },
  {
   "cell_type": "code",
   "execution_count": null,
   "id": "f8358b19",
   "metadata": {},
   "outputs": [],
   "source": [
    "2. Write a Python program for removing i-th character from a string?"
   ]
  },
  {
   "cell_type": "code",
   "execution_count": 4,
   "id": "fea1c52a",
   "metadata": {},
   "outputs": [
    {
     "name": "stdout",
     "output_type": "stream",
     "text": [
      "Original string: hello\n",
      "String after removing 2-th character: helo\n"
     ]
    }
   ],
   "source": [
    "def remove_ith_character(s, i):\n",
    "    if i < 0 or i >= len(s):\n",
    "        return s  # If i is out of range, return the original string\n",
    "    return s[:i] + s[i+1:]\n",
    "\n",
    "# Example usage:\n",
    "original_string = \"Aditya\"\n",
    "index_to_remove = 2\n",
    "modified_string = remove_ith_character(original_string, index_to_remove)\n",
    "\n",
    "print(f\"Original string: {original_string}\")\n",
    "print(f\"String after removing {index_to_remove}-th character: {modified_string}\")\n"
   ]
  },
  {
   "cell_type": "code",
   "execution_count": null,
   "id": "28137bce",
   "metadata": {},
   "outputs": [],
   "source": [
    "3. Write a Python program to split and join a string?"
   ]
  },
  {
   "cell_type": "code",
   "execution_count": 5,
   "id": "0c15b2d5",
   "metadata": {},
   "outputs": [
    {
     "name": "stdout",
     "output_type": "stream",
     "text": [
      "Original string: hello world this is a test\n",
      "Split list: ['hello', 'world', 'this', 'is', 'a', 'test']\n",
      "Joined string: hello world this is a test\n"
     ]
    }
   ],
   "source": [
    "def split_and_join_string(s, delimiter):\n",
    "    # Split the string into a list of words\n",
    "    words = s.split(delimiter)\n",
    "    # Join the list of words back into a single string with the same delimiter\n",
    "    joined_string = delimiter.join(words)\n",
    "    \n",
    "    return joined_string\n",
    "\n",
    "# Example usage:\n",
    "original_string = \"hello world this is a test\"\n",
    "delimiter = \" \"\n",
    "split_list = original_string.split(delimiter)\n",
    "joined_string = split_and_join_string(original_string, delimiter)\n",
    "\n",
    "print(f\"Original string: {original_string}\")\n",
    "print(f\"Split list: {split_list}\")\n",
    "print(f\"Joined string: {joined_string}\")\n"
   ]
  },
  {
   "cell_type": "code",
   "execution_count": null,
   "id": "4c66f40a",
   "metadata": {},
   "outputs": [],
   "source": [
    "4. Write a Python to check if a given string is binary string or not?"
   ]
  },
  {
   "cell_type": "code",
   "execution_count": 6,
   "id": "eb452208",
   "metadata": {},
   "outputs": [
    {
     "name": "stdout",
     "output_type": "stream",
     "text": [
      "Is '101010' a binary string? True\n",
      "Is '102010' a binary string? False\n"
     ]
    }
   ],
   "source": [
    "def is_binary_string(s):\n",
    "    # Check each character in the string to see if it is either '0' or '1'\n",
    "    for char in s:\n",
    "        if char not in ('0', '1'):\n",
    "            return False\n",
    "    return True\n",
    "\n",
    "# Example usage:\n",
    "string1 = \"101010\"\n",
    "string2 = \"102010\"\n",
    "\n",
    "result1 = is_binary_string(string1)\n",
    "result2 = is_binary_string(string2)\n",
    "\n",
    "print(f\"Is '{string1}' a binary string? {result1}\")\n",
    "print(f\"Is '{string2}' a binary string? {result2}\")\n"
   ]
  },
  {
   "cell_type": "code",
   "execution_count": null,
   "id": "da9b083f",
   "metadata": {},
   "outputs": [],
   "source": [
    "5. Write a Python program to find uncommon words from two Strings?"
   ]
  },
  {
   "cell_type": "code",
   "execution_count": 7,
   "id": "cdc8d7c2",
   "metadata": {},
   "outputs": [
    {
     "name": "stdout",
     "output_type": "stream",
     "text": [
      "Uncommon words from the two strings are: ['mango', 'orange']\n"
     ]
    }
   ],
   "source": [
    "def find_uncommon_words(s1, s2):\n",
    "    # Split the strings into words\n",
    "    words1 = s1.split()\n",
    "    words2 = s2.split()\n",
    "    \n",
    "    # Use a dictionary to count word occurrences\n",
    "    word_count = {}\n",
    "    \n",
    "    # Count occurrences in the first string\n",
    "    for word in words1:\n",
    "        word_count[word] = word_count.get(word, 0) + 1\n",
    "        \n",
    "    # Count occurrences in the second string\n",
    "    for word in words2:\n",
    "        word_count[word] = word_count.get(word, 0) + 1\n",
    "    \n",
    "    # Find words that appear exactly once (uncommon words)\n",
    "    uncommon_words = [word for word, count in word_count.items() if count == 1]\n",
    "    \n",
    "    return uncommon_words\n",
    "\n",
    "# Example usage:\n",
    "string1 = \"apple banana mango\"\n",
    "string2 = \"banana orange apple\"\n",
    "\n",
    "uncommon_words = find_uncommon_words(string1, string2)\n",
    "\n",
    "print(f\"Uncommon words from the two strings are: {uncommon_words}\")\n"
   ]
  },
  {
   "cell_type": "code",
   "execution_count": null,
   "id": "0c9ce842",
   "metadata": {},
   "outputs": [],
   "source": [
    "6. Write a Python to find all duplicate characters in string?"
   ]
  },
  {
   "cell_type": "code",
   "execution_count": 8,
   "id": "e7657da7",
   "metadata": {},
   "outputs": [
    {
     "name": "stdout",
     "output_type": "stream",
     "text": [
      "Duplicate characters in 'programming' are: ['r', 'g', 'm']\n"
     ]
    }
   ],
   "source": [
    "def find_duplicate_characters(s):\n",
    "    # Dictionary to count occurrences of each character\n",
    "    char_count = {}\n",
    "    \n",
    "    # Count occurrences of each character\n",
    "    for char in s:\n",
    "        char_count[char] = char_count.get(char, 0) + 1\n",
    "    \n",
    "    # Find characters that appear more than once\n",
    "    duplicates = [char for char, count in char_count.items() if count > 1]\n",
    "    \n",
    "    return duplicates\n",
    "\n",
    "# Example usage:\n",
    "input_string = \"programming\"\n",
    "duplicate_characters = find_duplicate_characters(input_string)\n",
    "\n",
    "print(f\"Duplicate characters in '{input_string}' are: {duplicate_characters}\")\n"
   ]
  },
  {
   "cell_type": "code",
   "execution_count": null,
   "id": "15e85920",
   "metadata": {},
   "outputs": [],
   "source": [
    "7. Write a Python Program to check if a string contains any special character?"
   ]
  },
  {
   "cell_type": "code",
   "execution_count": 10,
   "id": "303c5d54",
   "metadata": {
    "scrolled": true
   },
   "outputs": [
    {
     "name": "stdout",
     "output_type": "stream",
     "text": [
      "Does 'Hello$World123' contain special characters? True\n",
      "Does 'Hello@World!' contain special characters? True\n"
     ]
    }
   ],
   "source": [
    "import re\n",
    "\n",
    "def contains_special_character(s):\n",
    "    # Regular expression pattern for special characters\n",
    "    pattern = re.compile(r'[^a-zA-Z0-9]')\n",
    "    \n",
    "    # Search the string for any special characters\n",
    "    if pattern.search(s):\n",
    "        return True\n",
    "    return False\n",
    "\n",
    "# Example usage:\n",
    "input_string1 = \"HelloWorld123\"\n",
    "input_string2 = \"Hello@World!\"\n",
    "\n",
    "result1 = contains_special_character(input_string1)\n",
    "result2 = contains_special_character(input_string2)\n",
    "\n",
    "print(f\"Does '{input_string1}' contain special characters? {result1}\")\n",
    "print(f\"Does '{input_string2}' contain special characters? {result2}\")\n"
   ]
  },
  {
   "cell_type": "code",
   "execution_count": null,
   "id": "d8fbb161",
   "metadata": {},
   "outputs": [],
   "source": []
  },
  {
   "cell_type": "code",
   "execution_count": null,
   "id": "a734a38e",
   "metadata": {},
   "outputs": [],
   "source": []
  }
 ],
 "metadata": {
  "kernelspec": {
   "display_name": "Python 3 (ipykernel)",
   "language": "python",
   "name": "python3"
  },
  "language_info": {
   "codemirror_mode": {
    "name": "ipython",
    "version": 3
   },
   "file_extension": ".py",
   "mimetype": "text/x-python",
   "name": "python",
   "nbconvert_exporter": "python",
   "pygments_lexer": "ipython3",
   "version": "3.9.13"
  }
 },
 "nbformat": 4,
 "nbformat_minor": 5
}
