{
 "cells": [
  {
   "cell_type": "code",
   "execution_count": null,
   "id": "8a9b0360",
   "metadata": {},
   "outputs": [],
   "source": [
    "1. Write a Python Program to find sum of array?"
   ]
  },
  {
   "cell_type": "code",
   "execution_count": 1,
   "id": "1fa671bd",
   "metadata": {},
   "outputs": [
    {
     "name": "stdout",
     "output_type": "stream",
     "text": [
      "Array: [1, 2, 3, 4, 5]\n",
      "Sum of array elements: 15\n"
     ]
    }
   ],
   "source": [
    "def sum_of_array(arr):\n",
    "    total = 0\n",
    "    for num in arr:\n",
    "        total += num\n",
    "    return total\n",
    "\n",
    "# Example usage:\n",
    "array = [1, 2, 3, 4, 5]\n",
    "print(\"Array:\", array)\n",
    "print(\"Sum of array elements:\", sum_of_array(array))\n"
   ]
  },
  {
   "cell_type": "code",
   "execution_count": null,
   "id": "887c54af",
   "metadata": {},
   "outputs": [],
   "source": [
    "2. Write a Python Program to find largest element in an array?"
   ]
  },
  {
   "cell_type": "code",
   "execution_count": 2,
   "id": "55f151ba",
   "metadata": {},
   "outputs": [
    {
     "name": "stdout",
     "output_type": "stream",
     "text": [
      "Array: [3, 8, 1, 9, 5, 2]\n",
      "Largest element in the array: 9\n"
     ]
    }
   ],
   "source": [
    "def find_largest_element(arr):\n",
    "    # Initialize the largest element with the first element of the array\n",
    "    largest = arr[0]\n",
    "    \n",
    "    # Iterate through the array starting from the second element\n",
    "    for num in arr[1:]:\n",
    "        if num > largest:\n",
    "            largest = num\n",
    "    \n",
    "    return largest\n",
    "\n",
    "# Example usage:\n",
    "array = [3, 8, 1, 9, 5, 2]\n",
    "print(\"Array:\", array)\n",
    "print(\"Largest element in the array:\", find_largest_element(array))\n"
   ]
  },
  {
   "cell_type": "code",
   "execution_count": null,
   "id": "8a843e16",
   "metadata": {},
   "outputs": [],
   "source": [
    "3. Write a Python Program for array rotation?"
   ]
  },
  {
   "cell_type": "code",
   "execution_count": 3,
   "id": "0314223a",
   "metadata": {},
   "outputs": [
    {
     "name": "stdout",
     "output_type": "stream",
     "text": [
      "Original Array: [1, 2, 3, 4, 5]\n",
      "Array after left rotation by 2 positions:\n",
      "[3, 4, 5, 1, 2]\n"
     ]
    }
   ],
   "source": [
    "def rotate_array_left(arr, n):\n",
    "    # Calculate the effective rotation amount\n",
    "    n = n % len(arr)\n",
    "    \n",
    "    # Slice the array to perform rotation\n",
    "    rotated_array = arr[n:] + arr[:n]\n",
    "    \n",
    "    return rotated_array\n",
    "\n",
    "# Example usage:\n",
    "array = [1, 2, 3, 4, 5]\n",
    "rotation_positions = 2\n",
    "print(\"Original Array:\", array)\n",
    "print(\"Array after left rotation by\", rotation_positions, \"positions:\")\n",
    "print(rotate_array_left(array, rotation_positions))\n"
   ]
  },
  {
   "cell_type": "code",
   "execution_count": null,
   "id": "faab815b",
   "metadata": {},
   "outputs": [],
   "source": [
    "4. Write a Python Program to Split the array and add the first part to the end?"
   ]
  },
  {
   "cell_type": "code",
   "execution_count": 2,
   "id": "2bdfdc87",
   "metadata": {},
   "outputs": [
    {
     "name": "stdout",
     "output_type": "stream",
     "text": [
      "Original array: [1, 2, 3, 4, 5, 6]\n",
      "Array after splitting at index 3 and adding the first part to the end: [4, 5, 6, 1, 2, 3]\n",
      "Original array: [7, 8, 9, 10, 11]\n",
      "Array after splitting at index 2 and adding the first part to the end: [9, 10, 11, 7, 8]\n"
     ]
    }
   ],
   "source": [
    "def split_and_add(arr, index):\n",
    "    if index <= 0 or index >= len(arr):\n",
    "        return arr  # No split needed if index is out of valid range\n",
    "    return arr[index:] + arr[:index]\n",
    "\n",
    "# Example usage:\n",
    "array1 = [1, 2, 3, 4, 5, 6]\n",
    "index1 = 3\n",
    "result1 = split_and_add(array1, index1)\n",
    "\n",
    "array2 = [7, 8, 9, 10, 11]\n",
    "index2 = 2\n",
    "result2 = split_and_add(array2, index2)\n",
    "\n",
    "print(f\"Original array: {array1}\")\n",
    "print(f\"Array after splitting at index {index1} and adding the first part to the end: {result1}\")\n",
    "\n",
    "print(f\"Original array: {array2}\")\n",
    "print(f\"Array after splitting at index {index2} and adding the first part to the end: {result2}\")\n"
   ]
  },
  {
   "cell_type": "code",
   "execution_count": null,
   "id": "f46fa198",
   "metadata": {},
   "outputs": [],
   "source": [
    "5. Write a Python Program to check if given array is Monotonic?"
   ]
  },
  {
   "cell_type": "code",
   "execution_count": 1,
   "id": "ca55d870",
   "metadata": {},
   "outputs": [
    {
     "name": "stdout",
     "output_type": "stream",
     "text": [
      "Is array [1, 2, 2, 3] monotonic? True\n",
      "Is array [6, 5, 4, 4] monotonic? True\n",
      "Is array [1, 3, 2] monotonic? False\n",
      "Is array [1, 1, 1, 1] monotonic? True\n"
     ]
    }
   ],
   "source": [
    "def is_monotonic(arr):\n",
    "    if not arr:\n",
    "        return True\n",
    "\n",
    "    increasing = decreasing = True\n",
    "\n",
    "    for i in range(1, len(arr)):\n",
    "        if arr[i] > arr[i - 1]:\n",
    "            decreasing = False\n",
    "        if arr[i] < arr[i - 1]:\n",
    "            increasing = False\n",
    "\n",
    "    return increasing or decreasing\n",
    "\n",
    "# Example usage:\n",
    "array1 = [1, 2, 2, 3]\n",
    "array2 = [6, 5, 4, 4]\n",
    "array3 = [1, 3, 2]\n",
    "array4 = [1, 1, 1, 1]\n",
    "\n",
    "print(f\"Is array {array1} monotonic? {is_monotonic(array1)}\")\n",
    "print(f\"Is array {array2} monotonic? {is_monotonic(array2)}\")\n",
    "print(f\"Is array {array3} monotonic? {is_monotonic(array3)}\")\n",
    "print(f\"Is array {array4} monotonic? {is_monotonic(array4)}\")\n"
   ]
  }
 ],
 "metadata": {
  "kernelspec": {
   "display_name": "Python 3 (ipykernel)",
   "language": "python",
   "name": "python3"
  },
  "language_info": {
   "codemirror_mode": {
    "name": "ipython",
    "version": 3
   },
   "file_extension": ".py",
   "mimetype": "text/x-python",
   "name": "python",
   "nbconvert_exporter": "python",
   "pygments_lexer": "ipython3",
   "version": "3.9.13"
  }
 },
 "nbformat": 4,
 "nbformat_minor": 5
}
